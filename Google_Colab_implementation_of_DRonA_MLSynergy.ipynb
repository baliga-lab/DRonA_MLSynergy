{
  "nbformat": 4,
  "nbformat_minor": 0,
  "metadata": {
    "colab": {
      "name": "DRonA & MLSynergy notebook",
      "provenance": [],
      "collapsed_sections": [],
      "include_colab_link": true
    },
    "kernelspec": {
      "name": "python3",
      "display_name": "Python 3"
    },
    "language_info": {
      "name": "python"
    }
  },
  "cells": [
    {
      "cell_type": "markdown",
      "metadata": {
        "id": "view-in-github",
        "colab_type": "text"
      },
      "source": [
        "<a href=\"https://colab.research.google.com/github/baliga-lab/DRonA_MLSynergy/blob/master/Google_Colab_implementation_of_DRonA_MLSynergy.ipynb\" target=\"_parent\"><img src=\"https://colab.research.google.com/assets/colab-badge.svg\" alt=\"Open In Colab\"/></a>"
      ]
    },
    {
      "cell_type": "markdown",
      "metadata": {
        "id": "KOpnjbV6igmR"
      },
      "source": [
        "# Transcriptome signature of cell viability predicts drug response and drug interaction for tuberculosis\n",
        "\n",
        "Authors:  Vivek Srinivas, Rene A. Ruiz, Min Pan, Selva Rupa Christinal Immanuel, Eliza J.R. Peterson, Nitin S. Baliga*\n",
        "\n",
        "|*Lead contact: Nitin S. Baliga: nitin.baliga@isbscience.org \n"
      ]
    },
    {
      "cell_type": "code",
      "metadata": {
        "id": "s8tXhybpCGb7"
      },
      "source": [
        "#!/usr/bin/python3"
      ],
      "execution_count": null,
      "outputs": []
    },
    {
      "cell_type": "markdown",
      "metadata": {
        "id": "pHcM2r0wjJ_5"
      },
      "source": [
        "### Import DRonA and MLSynergy files form GitHUB"
      ]
    },
    {
      "cell_type": "code",
      "metadata": {
        "id": "wtJk3R7AWT46"
      },
      "source": [
        "# Import files from DRonA MLSynergy repository in GitHub and update scikit-learn in google colab\n",
        "!rm -rf DRonA_MLSynergy/\n",
        "!git clone https://github.com/baliga-lab/DRonA_MLSynergy.git\n",
        "!pip install scikit-learn==0.23.2"
      ],
      "execution_count": null,
      "outputs": []
    },
    {
      "cell_type": "markdown",
      "metadata": {
        "id": "s2HhJ12ojdiu"
      },
      "source": [
        "## DRonA"
      ]
    },
    {
      "cell_type": "code",
      "metadata": {
        "id": "4pSy9sE1bjoC"
      },
      "source": [
        "! python DRonA_MLSynergy/Version_1.1/DRonA.py -- help"
      ],
      "execution_count": null,
      "outputs": []
    },
    {
      "cell_type": "markdown",
      "metadata": {
        "id": "ZXGLM3x_jizU"
      },
      "source": [
        "### Training DRonA"
      ]
    },
    {
      "cell_type": "code",
      "metadata": {
        "id": "WCWf4KuYXnNL"
      },
      "source": [
        "! python DRonA_MLSynergy/Version_1.1/DRonA.py -c Train -m DRonA_MLSynergy/Version_1.1/Training_data/GEO_metadata_for_DRonA.csv -d DRonA_MLSynergy/Version_1.1/Training_data/GEO_data_for_DRonA.csv -o New_model_Aug_10_2021"
      ],
      "execution_count": null,
      "outputs": []
    },
    {
      "cell_type": "markdown",
      "metadata": {
        "id": "vaCm0HgzjlWZ"
      },
      "source": [
        "### Predicting drug response with DRonA"
      ]
    },
    {
      "cell_type": "code",
      "metadata": {
        "colab": {
          "base_uri": "https://localhost:8080/"
        },
        "id": "PnL-3KLTcDhG",
        "outputId": "cfa4cbaa-792b-4ec2-b2d2-647e0c14e3b8"
      },
      "source": [
        "! python DRonA_MLSynergy/Version_1.1/DRonA.py -c Score -f /content/DRonA_MLSynergy/Version_1.1/DRonA_trained_models/MTB_2020 -m DRonA_MLSynergy/Version_1.1/Single_drug_treatments/Single_drug_treatments_metadata.csv -d DRonA_MLSynergy/Version_1.1/Single_drug_treatments/Single_drug_treatments_data.csv"
      ],
      "execution_count": null,
      "outputs": [
        {
          "output_type": "stream",
          "text": [
            "Re-indexing the gene expression data\n",
            "Calculating scores\n",
            "Write the scores to DRonA_MLSynergy/Version_1.1/Single_drug_treatments/Single_drug_treatments_metadata_scored.csv file\n"
          ],
          "name": "stdout"
        }
      ]
    },
    {
      "cell_type": "markdown",
      "metadata": {
        "id": "Em25sbENjvz2"
      },
      "source": [
        "### Plotting DRonA predictions"
      ]
    },
    {
      "cell_type": "code",
      "metadata": {
        "id": "M47rE2AQZKqB"
      },
      "source": [
        "import pandas as pd\n",
        "import seaborn as sns\n",
        "from matplotlib import pyplot as plt"
      ],
      "execution_count": null,
      "outputs": []
    },
    {
      "cell_type": "code",
      "metadata": {
        "id": "LhiV7gDzZRkb"
      },
      "source": [
        "scores = pd.read_csv(\"DRonA_MLSynergy/Version_1.1/Single_drug_treatments/Single_drug_treatments_metadata_scored.csv\")"
      ],
      "execution_count": null,
      "outputs": []
    },
    {
      "cell_type": "code",
      "metadata": {
        "id": "7UFlQblqbllu"
      },
      "source": [
        "scores"
      ],
      "execution_count": null,
      "outputs": []
    },
    {
      "cell_type": "code",
      "metadata": {
        "id": "meFYIOpobZMf"
      },
      "source": [
        "scores_72 = scores[scores[\"Treatment time (hrs)\"].isin([0,72])]"
      ],
      "execution_count": null,
      "outputs": []
    },
    {
      "cell_type": "code",
      "metadata": {
        "id": "LKwZUJebZZuo"
      },
      "source": [
        "sns.color_palette(\"rocket\", as_cmap=True)\n",
        "ax = sns.stripplot(x=\"Drug\",y=\"CVS\",hue=\"Concentration\",data=scores_72,palette=\"rocket\")\n",
        "plt.legend(bbox_to_anchor=(1.05, 1), loc=2, borderaxespad=0.)"
      ],
      "execution_count": null,
      "outputs": []
    },
    {
      "cell_type": "markdown",
      "metadata": {
        "id": "2qQZiipWhaog"
      },
      "source": [
        "## MLSynergy"
      ]
    },
    {
      "cell_type": "code",
      "metadata": {
        "id": "DV0Te7B1hWqE"
      },
      "source": [
        "! python DRonA_MLSynergy/Version_1.1/MLSynergy.py -- help"
      ],
      "execution_count": null,
      "outputs": []
    },
    {
      "cell_type": "markdown",
      "metadata": {
        "id": "rJnOLA_Hhlp_"
      },
      "source": [
        "### Preparing transcritome combinations of single drug treatment"
      ]
    },
    {
      "cell_type": "code",
      "metadata": {
        "id": "E8jC0GVXd0xA"
      },
      "source": [
        "! python DRonA_MLSynergy/Version_1.1/MLSynergy.py -c Make_combinations -m DRonA_MLSynergy/Version_1.1/Drug_synergy_prediction/SDTs_used_for_predicting_drug_synergy.csv -o Drug_combinations_2021.csv"
      ],
      "execution_count": null,
      "outputs": []
    },
    {
      "cell_type": "markdown",
      "metadata": {
        "id": "QTD5-JwQhxcB"
      },
      "source": [
        "### Predicting drug interactions with MLSynergy"
      ]
    },
    {
      "cell_type": "code",
      "metadata": {
        "id": "htSvbdz_eHEl"
      },
      "source": [
        "! python DRonA_MLSynergy/Version_1.1/MLSynergy.py -c Score_combinations -f DRonA_MLSynergy/Version_1.1/DRonA_trained_models/MTB_2020 -m DRonA_MLSynergy/Version_1.1/Single_drug_treatments/Single_drug_treatments_metadata.csv -d DRonA_MLSynergy/Version_1.1/Single_drug_treatments/Single_drug_treatments_data.csv -p /content/Drug_combinations_2021.csv -u Yes"
      ],
      "execution_count": null,
      "outputs": []
    }
  ]
}